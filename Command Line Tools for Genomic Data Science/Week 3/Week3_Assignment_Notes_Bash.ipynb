{
 "cells": [
  {
   "cell_type": "markdown",
   "id": "1e7ac7f1",
   "metadata": {},
   "source": [
    "Week 3 - Quiz 3 (Questions: Bowtie2) (Codes are written in bash format - code was verified by interacting and downloading the correct files onto the terminal in my own computer) (Code written here is for own documentation/note making purposes)"
   ]
  },
  {
   "cell_type": "code",
   "execution_count": null,
   "id": "39d0cc54",
   "metadata": {},
   "outputs": [],
   "source": [
    "# Question 1\n",
    "cat wu_0.v7.fas | grep \">\" | wc -l"
   ]
  },
  {
   "cell_type": "code",
   "execution_count": null,
   "id": "6a57d657",
   "metadata": {},
   "outputs": [],
   "source": [
    "# Question 2\n",
    "cat wu_0.v7.fas | grep \">\""
   ]
  },
  {
   "cell_type": "code",
   "execution_count": null,
   "id": "5fe41af4",
   "metadata": {},
   "outputs": [],
   "source": [
    "# Question 3\n",
    "cat wu_0.v7.fas | grep \">\""
   ]
  },
  {
   "cell_type": "code",
   "execution_count": null,
   "id": "4f9e9496",
   "metadata": {},
   "outputs": [],
   "source": [
    "# Question 4\n",
    "bowtie2-build wu_0.v7.fas wu_0/wu_0"
   ]
  },
  {
   "cell_type": "code",
   "execution_count": null,
   "id": "e5c3eb3f",
   "metadata": {},
   "outputs": [],
   "source": [
    "# Question 5\n",
    "# bt2"
   ]
  },
  {
   "cell_type": "code",
   "execution_count": null,
   "id": "4d9c52d0",
   "metadata": {},
   "outputs": [],
   "source": [
    "# Question 6\n",
    "cat wu_0_A_wgs.fastq | wc -l"
   ]
  },
  {
   "cell_type": "code",
   "execution_count": null,
   "id": "4e4bb3cd",
   "metadata": {},
   "outputs": [],
   "source": [
    "# Question 7, 8 and 11\n",
    "bowtie2 -p 4 -x wu_0/wu_0 wu_0_A_wgs.fastq -S wu_0.bt2.sam"
   ]
  },
  {
   "cell_type": "code",
   "execution_count": null,
   "id": "9fa5682e",
   "metadata": {},
   "outputs": [],
   "source": [
    "# Question 8, 10 and 12"
   ]
  },
  {
   "cell_type": "code",
   "execution_count": null,
   "id": "8333aa66",
   "metadata": {},
   "outputs": [],
   "source": [
    "bowtie2 -p 4 --local -x wu_0/wu_0 wu_0_A_wgs.fastq -S wu_0.bt2.local.sam"
   ]
  },
  {
   "cell_type": "code",
   "execution_count": null,
   "id": "554f7522",
   "metadata": {},
   "outputs": [],
   "source": [
    "# Question 13\n",
    "cat wu_0.bt2.sam | cut -f6 | grep \"I\" | grep \"D\" | wc -l"
   ]
  },
  {
   "cell_type": "code",
   "execution_count": null,
   "id": "8ecf9c40",
   "metadata": {},
   "outputs": [],
   "source": [
    "# Question 14\n",
    "cat wu_0.bt2.local.sam | cut -f6 | grep \"I\" | grep \"D\" | wc -l"
   ]
  },
  {
   "cell_type": "code",
   "execution_count": null,
   "id": "2f5b5beb",
   "metadata": {},
   "outputs": [],
   "source": [
    "# Question 15\n",
    "samtools view -bT wu_0.v7.fas wu_0.bt2.sam > wu_0.bt2.bam\n",
    "samtools sort wu_0.bt2.bam -o wu_0.bt2.sorted.bam\n",
    "samtools index wu_0.bt2.sorted.bam\n",
    "samtools mpileup -uv -f wu_0.v7.fas wu_0.bt2.sorted.bam > wu_0.vcf\n",
    "cat wu_0.vcf | cut -f1 | grep \"Chr3\" | wc -l"
   ]
  },
  {
   "cell_type": "code",
   "execution_count": null,
   "id": "43ac1c88",
   "metadata": {},
   "outputs": [],
   "source": [
    "# Question 16\n",
    "cat wu_0.vcf | cut -f4 | awk '$1 == \"A\"' | wc -l"
   ]
  },
  {
   "cell_type": "code",
   "execution_count": null,
   "id": "70c4d591",
   "metadata": {},
   "outputs": [],
   "source": [
    "# Question 17\n",
    "cat wu_0.vcf | cut -f8 | grep \"DP=20\" | wc -l"
   ]
  },
  {
   "cell_type": "code",
   "execution_count": null,
   "id": "19278fc7",
   "metadata": {},
   "outputs": [],
   "source": [
    "# Question 18\n",
    "cat wu_0.vcf | cut -f8 | grep \"DP=20\" | wc -l"
   ]
  },
  {
   "cell_type": "code",
   "execution_count": null,
   "id": "c4683196",
   "metadata": {},
   "outputs": [],
   "source": [
    "# Question 19\n",
    "cat wu_0.vcf | cut -f1,2 | grep \"Chr1\" | awk '$2 == \"175672\"' | wc -l"
   ]
  },
  {
   "cell_type": "code",
   "execution_count": null,
   "id": "5b1ee37d",
   "metadata": {},
   "outputs": [],
   "source": [
    "# Question 20\n",
    "zcat < wu_0.vcf.gz | cut -f1 | grep \"Chr3\" | wc -l"
   ]
  },
  {
   "cell_type": "code",
   "execution_count": null,
   "id": "9a27bf57",
   "metadata": {},
   "outputs": [],
   "source": [
    "# Question 21\n",
    "zcat < wu_0.vcf.gz | cut -f4,5 | awk '$1 == \"A\" && $2 ==\"T\"' | wc -l"
   ]
  },
  {
   "cell_type": "code",
   "execution_count": null,
   "id": "c582e269",
   "metadata": {},
   "outputs": [],
   "source": [
    "# Question 22\n",
    "zcat < wu_0.vcf.gz | cut -f8 | grep \"INDEL\" | wc -l"
   ]
  },
  {
   "cell_type": "code",
   "execution_count": null,
   "id": "7013b348",
   "metadata": {},
   "outputs": [],
   "source": [
    "# Question 23\n",
    "zcat < wu_0.vcf.gz | cut -f8 | grep \"DP=20\" | wc -l"
   ]
  },
  {
   "cell_type": "code",
   "execution_count": null,
   "id": "c5e011b9",
   "metadata": {},
   "outputs": [],
   "source": [
    "# Question 24\n",
    "zcat < wu_0.vcf.gz | grep \"Chr3\" | awk '$2 == \"11937923\"'"
   ]
  }
 ],
 "metadata": {
  "kernelspec": {
   "display_name": "Python 3",
   "language": "python",
   "name": "python3"
  },
  "language_info": {
   "codemirror_mode": {
    "name": "ipython",
    "version": 3
   },
   "file_extension": ".py",
   "mimetype": "text/x-python",
   "name": "python",
   "nbconvert_exporter": "python",
   "pygments_lexer": "ipython3",
   "version": "3.8.8"
  }
 },
 "nbformat": 4,
 "nbformat_minor": 5
}

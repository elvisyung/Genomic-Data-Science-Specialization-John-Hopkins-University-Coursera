{
 "cells": [
  {
   "cell_type": "markdown",
   "id": "7aa7e542",
   "metadata": {},
   "source": [
    "Week 4 - Quiz 4 (Questions: Tophat amd Cufflinks) (Codes are written in bash format - code was verified by interacting and downloading the correct files onto the terminal in my own computer) (Code written here is for own documentation/note making purposes)"
   ]
  },
  {
   "cell_type": "code",
   "execution_count": null,
   "id": "d0fba23a",
   "metadata": {},
   "outputs": [],
   "source": [
    "# Question 1\n",
    "mkdir Tophat\n",
    "mkdir Tophat/Day8\n",
    "mkdir Tophat/Day16\n",
    "mkdir athal\n",
    "bowtie2-build athal.fa athal/athal\n",
    "cp athal_chr.fa athal/\n",
    "tophat –o Tophat/Day8/ athal/athal Day8.fastq\n",
    "tophat –o Tophat/Day16 athal/athal Day16.fastq\n",
    "samtools view Tophat/Day8/accepted_hits.bam | cut -f7 | wc -l"
   ]
  },
  {
   "cell_type": "code",
   "execution_count": null,
   "id": "e880382e",
   "metadata": {},
   "outputs": [],
   "source": [
    "# Question 2\n",
    "samtools view Tophat/Day16/accepted_hits.bam | cut -f7 | wc -l"
   ]
  },
  {
   "cell_type": "code",
   "execution_count": null,
   "id": "eb8de36d",
   "metadata": {},
   "outputs": [],
   "source": [
    "# Question 3\n",
    "head Tophat/Day8/align_summary.txt"
   ]
  },
  {
   "cell_type": "code",
   "execution_count": null,
   "id": "8a9d75b6",
   "metadata": {},
   "outputs": [],
   "source": [
    "# Question 4\n",
    "head Tophat/Day16/align_summary.txt"
   ]
  },
  {
   "cell_type": "code",
   "execution_count": null,
   "id": "c2e1a986",
   "metadata": {},
   "outputs": [],
   "source": [
    "# Question 5, 6 and 7\n",
    "samtools view Tophat/Day8/accepted_hits.bam | cut -f6 | grep \"N\" | wc -l"
   ]
  },
  {
   "cell_type": "code",
   "execution_count": null,
   "id": "cbf1ad0c",
   "metadata": {},
   "outputs": [],
   "source": [
    "# Question 8\n",
    "samtools view Tophat/Day16/accepted_hits.bam | cut -f6 | grep \"N\" | wc -l"
   ]
  },
  {
   "cell_type": "code",
   "execution_count": null,
   "id": "5c5606af",
   "metadata": {},
   "outputs": [],
   "source": [
    "# Question 9 \n",
    "# 84"
   ]
  },
  {
   "cell_type": "code",
   "execution_count": null,
   "id": "cafaf557",
   "metadata": {},
   "outputs": [],
   "source": [
    "# Question 10\n",
    "# 34"
   ]
  },
  {
   "cell_type": "code",
   "execution_count": null,
   "id": "c4d1db87",
   "metadata": {},
   "outputs": [],
   "source": [
    "# Question 11\n",
    "mkdir Cufflinks\n",
    "mkdir Cufflinks/Day8\n",
    "mkdir Cufflinks/Day16\n",
    "\n",
    "cufflinks -L Day8 Tophat/Day8/accepted_hits.bam -o Cufflinks/Day8\n",
    "cat Cufflinks/Day8/transcripts.gtf | cut -f9 | cut -d \";\" -f1 | sort -u | wc -l"
   ]
  },
  {
   "cell_type": "code",
   "execution_count": null,
   "id": "3ce0a60b",
   "metadata": {},
   "outputs": [],
   "source": [
    "# Question 12\n",
    "cufflinks -L Day16 Tophat/Day16/accepted_hits.bam -o Cufflinks/Day16\n",
    "cat Cufflinks/Day16/transcripts.gtf | cut -f9 | cut -d \";\" -f1 | sort -u | wc -l"
   ]
  },
  {
   "cell_type": "code",
   "execution_count": null,
   "id": "f6286d7a",
   "metadata": {},
   "outputs": [],
   "source": [
    "# Question 13\n",
    "cat Cufflinks/Day8/transcripts.gtf | cut -f9 | cut -d \";\" -f2 | sort -u | wc -l"
   ]
  },
  {
   "cell_type": "code",
   "execution_count": null,
   "id": "b6e51a90",
   "metadata": {},
   "outputs": [],
   "source": [
    "# Question 14\n",
    "cat Cufflinks/Day16/transcripts.gtf | cut -f9 | cut -d \";\" -f2 | sort -u | wc -l"
   ]
  },
  {
   "cell_type": "code",
   "execution_count": null,
   "id": "dce94a98",
   "metadata": {},
   "outputs": [],
   "source": [
    "# Question 15\n",
    "cat Cufflinks/Day8/transcripts.gtf | cut -f9 | cut -d ' ' -f2,4 | sort -u | cut -d ' ' -f1 | sort | uniq -c |  grep -c \" 1 \""
   ]
  },
  {
   "cell_type": "code",
   "execution_count": null,
   "id": "12f94e95",
   "metadata": {},
   "outputs": [],
   "source": [
    "# Question 16\n",
    "cat Cufflinks/Day16/transcripts.gtf | cut -f9 | cut -d ' ' -f2,4 | sort -u | cut -d ' ' -f1 | sort | uniq -c |  grep -c \" 1 \""
   ]
  },
  {
   "cell_type": "code",
   "execution_count": null,
   "id": "ef3b8e12",
   "metadata": {},
   "outputs": [],
   "source": [
    "# Question 17\n",
    "cat Cufflinks/Day8/transcripts.gtf | cut -f9 | cut -d ' ' -f4 | sort | uniq -c |  grep -c \" 2 \""
   ]
  },
  {
   "cell_type": "code",
   "execution_count": null,
   "id": "6d39402d",
   "metadata": {},
   "outputs": [],
   "source": [
    "# Question 18\n",
    "cat Cufflinks/Day16/transcripts.gtf | cut -f9 | cut -d ' ' -f4 | sort | uniq -c |  grep -c \" 2 \""
   ]
  },
  {
   "cell_type": "code",
   "execution_count": null,
   "id": "d92ac3f0",
   "metadata": {},
   "outputs": [],
   "source": [
    "# Question 19\n",
    "# 73"
   ]
  },
  {
   "cell_type": "code",
   "execution_count": null,
   "id": "5d484062",
   "metadata": {},
   "outputs": [],
   "source": [
    "# Question 20\n",
    "# 68"
   ]
  },
  {
   "cell_type": "code",
   "execution_count": null,
   "id": "87f72cb6",
   "metadata": {},
   "outputs": [],
   "source": [
    "# Question 21\n",
    "cuffcompare >& cuffcompare.log\n",
    "cd Cufflinks/Day8\n",
    "cuffcompare -r ../../athal_genes.gtf -R transcripts.gtf\n",
    "cat cuffcmp.transcripts.gtf.tmap | cut -f3 | grep \"=\" | wc -l"
   ]
  },
  {
   "cell_type": "code",
   "execution_count": null,
   "id": "3e7b63e3",
   "metadata": {},
   "outputs": [],
   "source": [
    "# Question 22\n",
    "cd ../Day16\n",
    "cuffcompare -r ../../athal_genes.gtf -R transcripts.gtf\n",
    "cat cuffcmp.transcripts.gtf.tmap | cut -f3 | grep \"=\" | wc -l"
   ]
  },
  {
   "cell_type": "code",
   "execution_count": null,
   "id": "de957810",
   "metadata": {},
   "outputs": [],
   "source": [
    "# Question 23\n",
    "cd ../Day8\n",
    "cat cuffcmp.transcripts.gtf.tmap | grep \"AT4G20240\" | wc -l"
   ]
  },
  {
   "cell_type": "code",
   "execution_count": null,
   "id": "6d7c5305",
   "metadata": {},
   "outputs": [],
   "source": [
    "# Question 24\n",
    "cd ../Day16\n",
    "cat cuffcmp.transcripts.gtf.tmap | grep \"AT4G20240\" | wc -l"
   ]
  },
  {
   "cell_type": "code",
   "execution_count": null,
   "id": "e6032f2e",
   "metadata": {},
   "outputs": [],
   "source": [
    "# Question 25\n",
    "cd ../Day8\n",
    "cat cuffcmp.transcripts.gtf.tmap | cuf -f3 | grep \"c\" | wc -l"
   ]
  },
  {
   "cell_type": "code",
   "execution_count": null,
   "id": "c93c9310",
   "metadata": {},
   "outputs": [],
   "source": [
    "# Question 26\n",
    "cd ../Day16\n",
    "cat cuffcmp.transcripts.gtf.tmap | cuf -f3 | grep \"c\" | wc -l"
   ]
  },
  {
   "cell_type": "code",
   "execution_count": null,
   "id": "ddb2ea80",
   "metadata": {},
   "outputs": [],
   "source": [
    "# Question 27\n",
    "cd ../Day8\n",
    "cat cuffcmp.transcripts.gtf.tmap | cuf -f3 | grep \"j\" | wc -l"
   ]
  },
  {
   "cell_type": "code",
   "execution_count": null,
   "id": "7dceddd4",
   "metadata": {},
   "outputs": [],
   "source": [
    "# Question 28\n",
    "cd ../Day16\n",
    "cat cuffcmp.transcripts.gtf.tmap | cuf -f3 | grep \"j\" | wc -l"
   ]
  },
  {
   "cell_type": "code",
   "execution_count": null,
   "id": "32e3e140",
   "metadata": {},
   "outputs": [],
   "source": [
    "# Question 29\n",
    "cd ../Day8\n",
    "cat cuffcmp.transcripts.gtf.tmap | cuf -f3 | grep \"i\" | wc -l"
   ]
  },
  {
   "cell_type": "code",
   "execution_count": null,
   "id": "b787f221",
   "metadata": {},
   "outputs": [],
   "source": [
    "# Question 30\n",
    "cd ../Day16\n",
    "cat cuffcmp.transcripts.gtf.tmap | cuf -f3 | grep \"i\" | wc -l"
   ]
  },
  {
   "cell_type": "code",
   "execution_count": null,
   "id": "bb99743f",
   "metadata": {},
   "outputs": [],
   "source": [
    "# Question 31\n",
    "# rewrite the GTFs.txt with the location of gtf files which would like merged\n",
    "cuffmerge -g athal_genes.gtf commands/GTFs.txt\n",
    "cat merged_asm/merged.gtf | cut -f9 | cut -d ' ' -f2 | sort -u | wc -l"
   ]
  },
  {
   "cell_type": "code",
   "execution_count": null,
   "id": "54689bce",
   "metadata": {},
   "outputs": [],
   "source": [
    "# Question 32\n",
    "cat merged_asm/merged.gtf | cut -f9 | cut -d ' ' -f4 | sort -u | wc -l"
   ]
  },
  {
   "cell_type": "code",
   "execution_count": null,
   "id": "90a689b7",
   "metadata": {},
   "outputs": [],
   "source": [
    "# Question 33\n",
    "mkdir Cuffdiff\n",
    "cuffdiff merged_asm/merged.gtf Tophat/Day8/accepted_hits.bam Tophat/Day16/accepted_hits.bam -o Cuffdiff\n",
    "cat Cuffdiff/gene_exp.diff | wc -l"
   ]
  },
  {
   "cell_type": "code",
   "execution_count": null,
   "id": "6c8e7165",
   "metadata": {},
   "outputs": [],
   "source": [
    "# Question 34\n",
    "cat Cuffdiff/gene_exp.diff | cut -f14 | grep \"yes\" | wc -l"
   ]
  },
  {
   "cell_type": "code",
   "execution_count": null,
   "id": "3ed981ef",
   "metadata": {},
   "outputs": [],
   "source": [
    "# Question 35\n",
    "cat Cuffdiff/isoform_exp.diff | cut -f14 | grep \"yes\" | wc -l"
   ]
  }
 ],
 "metadata": {
  "kernelspec": {
   "display_name": "Python 3",
   "language": "python",
   "name": "python3"
  },
  "language_info": {
   "codemirror_mode": {
    "name": "ipython",
    "version": 3
   },
   "file_extension": ".py",
   "mimetype": "text/x-python",
   "name": "python",
   "nbconvert_exporter": "python",
   "pygments_lexer": "ipython3",
   "version": "3.8.8"
  }
 },
 "nbformat": 4,
 "nbformat_minor": 5
}

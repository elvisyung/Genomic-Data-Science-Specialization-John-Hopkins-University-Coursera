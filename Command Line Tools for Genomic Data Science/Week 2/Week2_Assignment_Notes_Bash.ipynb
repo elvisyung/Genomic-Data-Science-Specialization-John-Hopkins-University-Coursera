{
 "cells": [
  {
   "cell_type": "markdown",
   "id": "3cef74b8",
   "metadata": {},
   "source": [
    "Week 2 - Quiz 2 (Questions: Samtools and Bedtools) (Codes are written in bash format - code was verified by interacting and downloading the correct files onto the terminal in my own computer) (Code written here is for own documentation/note making purposes)"
   ]
  },
  {
   "cell_type": "code",
   "execution_count": null,
   "id": "4ff2d3ef",
   "metadata": {},
   "outputs": [],
   "source": [
    "# Question 1\n",
    "samtools view athal_wu_0_A.bam | wc -l"
   ]
  },
  {
   "cell_type": "code",
   "execution_count": null,
   "id": "4f0f98b2",
   "metadata": {},
   "outputs": [],
   "source": [
    "# Question 2\n",
    "samtools view athal_wu_0_A.bam | cut -f7 | grep \"*\" | wc -l"
   ]
  },
  {
   "cell_type": "code",
   "execution_count": null,
   "id": "8c61e6f1",
   "metadata": {},
   "outputs": [],
   "source": [
    "# Question 3\n",
    "samtools view athal_wu_0_A.bam | cut -f6 | grep \"D\" | wc -l"
   ]
  },
  {
   "cell_type": "code",
   "execution_count": null,
   "id": "a31a5340",
   "metadata": {},
   "outputs": [],
   "source": [
    "# Question 4\n",
    "samtools view athal_wu_0_A.bam | cut -f7 | grep \"=\" | wc -l"
   ]
  },
  {
   "cell_type": "code",
   "execution_count": null,
   "id": "a288166c",
   "metadata": {},
   "outputs": [],
   "source": [
    "# Question 5\n",
    "samtools view athal_wu_0_A.bam | cut -f6 | grep \"N\" | wc -l"
   ]
  },
  {
   "cell_type": "code",
   "execution_count": null,
   "id": "87bc9d03",
   "metadata": {},
   "outputs": [],
   "source": [
    "# Question 6\n",
    "# sort the bam_file\n",
    "samtools sort athal_wu_0_A.bam -o athal_wu_0_A.sort.bam\n",
    "\n",
    "# index the bam_file\n",
    "samtools index athal_wu_0_A.sort.bam\n",
    "\n",
    "# extract range “Chr3:11,777,000-11,794,000”\n",
    "samtools view athal_wu_0_A.sort.bam \"Chr3:11,777,000-11,794,000\" | wc -l"
   ]
  },
  {
   "cell_type": "code",
   "execution_count": null,
   "id": "6c954523",
   "metadata": {},
   "outputs": [],
   "source": [
    "# Question 7\n",
    "samtools view athal_wu_0_A.sort.bam \"Chr3:11,777,000-11,794,000\" | cut -f7 | grep \"*\" | wc -l"
   ]
  },
  {
   "cell_type": "code",
   "execution_count": null,
   "id": "3261e86f",
   "metadata": {},
   "outputs": [],
   "source": [
    "# Question 8\n",
    "samtools view athal_wu_0_A.sort.bam \"Chr3:11,777,000-11,794,000\" | cut -f6 | grep \"D\" | wc -l"
   ]
  },
  {
   "cell_type": "code",
   "execution_count": null,
   "id": "54822e93",
   "metadata": {},
   "outputs": [],
   "source": [
    "# Question 9\n",
    "samtools view athal_wu_0_A.sort.bam \"Chr3:11,777,000-11,794,000\" | cut -f7 | grep \"=\" | wc -l"
   ]
  },
  {
   "cell_type": "code",
   "execution_count": null,
   "id": "ab2adc14",
   "metadata": {},
   "outputs": [],
   "source": [
    "# Question 10\n",
    "samtools view athal_wu_0_A.sort.bam \"Chr3:11,777,000-11,794,000\" | cut -f6 | grep \"N\" | wc -l"
   ]
  },
  {
   "cell_type": "code",
   "execution_count": null,
   "id": "06e13ada",
   "metadata": {},
   "outputs": [],
   "source": [
    "# Question 11, 12 and 13\n",
    "samtools view -H athal_wu_0_A.bam"
   ]
  },
  {
   "cell_type": "code",
   "execution_count": null,
   "id": "f667d7f0",
   "metadata": {},
   "outputs": [],
   "source": [
    "# Question 14\n",
    "samtools view athal_wu_0_A.bam | head"
   ]
  },
  {
   "cell_type": "code",
   "execution_count": null,
   "id": "53fae980",
   "metadata": {},
   "outputs": [],
   "source": [
    "# Question 15\n",
    "# chr3:11700332"
   ]
  },
  {
   "cell_type": "code",
   "execution_count": null,
   "id": "8eec6cb9",
   "metadata": {},
   "outputs": [],
   "source": [
    "# Question 16\n",
    "bedtools bamtobed -i athal_wu_0_A.bam > athal_wu_0_A.bed\n",
    "bedtools intersect -wo -a athal_wu_0_A_annot.gtf -b athal_wu_0_A.bed | wc -l"
   ]
  },
  {
   "cell_type": "code",
   "execution_count": null,
   "id": "0cadbf99",
   "metadata": {},
   "outputs": [],
   "source": [
    "# Question 17\n",
    "bedtools intersect -wo -a athal_wu_0_A_annot.gtf -b athal_wu_0_A.bed | cut -f16 > count.txt\n",
    "awk '$1>9{c++} END{print c+0}' count.txt"
   ]
  },
  {
   "cell_type": "code",
   "execution_count": null,
   "id": "8932562e",
   "metadata": {},
   "outputs": [],
   "source": [
    "# Question 18\n",
    "# 3101"
   ]
  },
  {
   "cell_type": "code",
   "execution_count": null,
   "id": "f603b2fb",
   "metadata": {},
   "outputs": [],
   "source": [
    "# Question 19\n",
    "bedtools intersect -wo -a athal_wu_0_A_annot.gtf -b athal_wu_0_A.bed | cut -f4 | sort -u | wc -l"
   ]
  },
  {
   "cell_type": "code",
   "execution_count": null,
   "id": "99be3525",
   "metadata": {},
   "outputs": [],
   "source": [
    "# Question 20\n",
    "bedtools intersect -wo -a athal_wu_0_A_annot.gtf -b athal_wu_0_A.bed | cut -f9 | cut -d \" \" -f4 | sort -u | wc -l"
   ]
  }
 ],
 "metadata": {
  "kernelspec": {
   "display_name": "Python 3",
   "language": "python",
   "name": "python3"
  },
  "language_info": {
   "codemirror_mode": {
    "name": "ipython",
    "version": 3
   },
   "file_extension": ".py",
   "mimetype": "text/x-python",
   "name": "python",
   "nbconvert_exporter": "python",
   "pygments_lexer": "ipython3",
   "version": "3.8.8"
  }
 },
 "nbformat": 4,
 "nbformat_minor": 5
}

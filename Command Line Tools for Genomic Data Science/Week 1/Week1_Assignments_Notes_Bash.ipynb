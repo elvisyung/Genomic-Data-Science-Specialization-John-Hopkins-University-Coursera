{
 "cells": [
  {
   "cell_type": "markdown",
   "id": "21c33ef6",
   "metadata": {},
   "source": [
    "Week 1 - Quiz 1 (Questions: Basic Bash-shell) (Codes are written in bash format - code was verified by interacting and downloading the correct files onto the terminal in my own computer) (Code written here is for own documentation/note making purposes)"
   ]
  },
  {
   "cell_type": "code",
   "execution_count": null,
   "id": "de735025",
   "metadata": {},
   "outputs": [],
   "source": [
    "## Question 1\n",
    "grep -c \">\" apple.genome"
   ]
  },
  {
   "cell_type": "code",
   "execution_count": null,
   "id": "20818bfe",
   "metadata": {},
   "outputs": [],
   "source": [
    "## Question 2\n",
    "cut -f1 apple.genes | sort -u | wc -l"
   ]
  },
  {
   "cell_type": "code",
   "execution_count": null,
   "id": "65c2c704",
   "metadata": {},
   "outputs": [],
   "source": [
    "## Question 3\n",
    "cut -f2 apple.genes | sort -u | wc -l"
   ]
  },
  {
   "cell_type": "code",
   "execution_count": null,
   "id": "5260624e",
   "metadata": {},
   "outputs": [],
   "source": [
    "## Question 4\n",
    "cut -f1 apple.genes | uniq -c | grep \" 1 \" | wc -l"
   ]
  },
  {
   "cell_type": "code",
   "execution_count": null,
   "id": "e6681cb9",
   "metadata": {},
   "outputs": [],
   "source": [
    "## Question 5\n",
    "cut -f1 apple.genes | uniq -c | grep -v \" 1 \" | wc -l"
   ]
  },
  {
   "cell_type": "code",
   "execution_count": null,
   "id": "f466a08b",
   "metadata": {},
   "outputs": [],
   "source": [
    "## Question 6\n",
    "cut -f1,4 apple.genes | sort | uniq -c | grep \"+\" | wc -l"
   ]
  },
  {
   "cell_type": "code",
   "execution_count": null,
   "id": "9cea4a3e",
   "metadata": {},
   "outputs": [],
   "source": [
    "## Question 7\n",
    "cut -f1,4 apple.genes | sort | uniq -c | grep \"-\" | wc -l"
   ]
  },
  {
   "cell_type": "code",
   "execution_count": null,
   "id": "ff99b3dd",
   "metadata": {},
   "outputs": [],
   "source": [
    "## Question 8, 9 and 10\n",
    "cut -f1,3 apple.genes | sort -u | cut -f2 | sort | uniq -c"
   ]
  },
  {
   "cell_type": "code",
   "execution_count": null,
   "id": "bf1544d3",
   "metadata": {},
   "outputs": [],
   "source": [
    "## Question 11, 12 and 13\n",
    "cut -f2,3 apple.genes | sort -u | cut -f2 | sort | uniq -c"
   ]
  },
  {
   "cell_type": "code",
   "execution_count": null,
   "id": "ae32ec56",
   "metadata": {},
   "outputs": [],
   "source": [
    "## Question 14\n",
    "cut -f1 apple.conditionA | sort -u > sortA\n",
    "cut -f1 apple.conditionB | sort -u > sortB\n",
    "comm -1 -2 sortA sortB | wc -l"
   ]
  },
  {
   "cell_type": "code",
   "execution_count": null,
   "id": "3ac3be1a",
   "metadata": {},
   "outputs": [],
   "source": [
    "## Question 15\n",
    "comm -2 -3 sortA sortB | wc -l"
   ]
  },
  {
   "cell_type": "code",
   "execution_count": null,
   "id": "fc016254",
   "metadata": {},
   "outputs": [],
   "source": [
    "## Question 16\n",
    "comm -1 -3 sortA sortB | wc -l"
   ]
  },
  {
   "cell_type": "code",
   "execution_count": null,
   "id": "207e5e98",
   "metadata": {},
   "outputs": [],
   "source": [
    "## Question 17\n",
    "cut -f1 apple.conditionC | sort -u > sortC\n",
    "comm -1 -2 sortA sortB > AB_common\n",
    "comm -1 -2 AB_common sortC | wc -l"
   ]
  }
 ],
 "metadata": {
  "kernelspec": {
   "display_name": "Python 3",
   "language": "python",
   "name": "python3"
  },
  "language_info": {
   "codemirror_mode": {
    "name": "ipython",
    "version": 3
   },
   "file_extension": ".py",
   "mimetype": "text/x-python",
   "name": "python",
   "nbconvert_exporter": "python",
   "pygments_lexer": "ipython3",
   "version": "3.8.8"
  }
 },
 "nbformat": 4,
 "nbformat_minor": 5
}
